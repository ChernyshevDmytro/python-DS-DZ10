{
  "nbformat": 4,
  "nbformat_minor": 0,
  "metadata": {
    "colab": {
      "provenance": []
    },
    "kernelspec": {
      "name": "python3",
      "display_name": "Python 3"
    },
    "language_info": {
      "name": "python"
    },
    "gpuClass": "standard"
  },
  "cells": [
    {
      "cell_type": "code",
      "execution_count": 1,
      "metadata": {
        "colab": {
          "base_uri": "https://localhost:8080/"
        },
        "id": "0qNIWaddtGDa",
        "outputId": "c03aba31-e633-467b-95bd-b38e206d1b68"
      },
      "outputs": [
        {
          "output_type": "stream",
          "name": "stdout",
          "text": [
            "Downloading data from https://storage.googleapis.com/tensorflow/tf-keras-datasets/train-labels-idx1-ubyte.gz\n",
            "29515/29515 [==============================] - 0s 1us/step\n",
            "Downloading data from https://storage.googleapis.com/tensorflow/tf-keras-datasets/train-images-idx3-ubyte.gz\n",
            "26421880/26421880 [==============================] - 1s 0us/step\n",
            "Downloading data from https://storage.googleapis.com/tensorflow/tf-keras-datasets/t10k-labels-idx1-ubyte.gz\n",
            "5148/5148 [==============================] - 0s 0us/step\n",
            "Downloading data from https://storage.googleapis.com/tensorflow/tf-keras-datasets/t10k-images-idx3-ubyte.gz\n",
            "4422102/4422102 [==============================] - 0s 0us/step\n"
          ]
        }
      ],
      "source": [
        "import tensorflow as tf\n",
        "from tensorflow import keras\n",
        "from keras.datasets import fashion_mnist\n",
        "from keras.models import Sequential\n",
        "from keras.layers import Dense\n",
        "from keras.layers import Flatten\n",
        "from keras import optimizers\n",
        "from keras import losses\n",
        "from keras import metrics\n",
        "\n",
        "import numpy as np\n",
        "\n",
        "(train_data, train_labels), (test_data, test_labels) = fashion_mnist.load_data()\n",
        "\n",
        "train_data = train_data.astype('float32') / 255.0\n",
        "test_data = test_data.astype('float32') / 255.0"
      ]
    },
    {
      "cell_type": "code",
      "source": [
        "#train_data[0][:10]"
      ],
      "metadata": {
        "id": "0nwMeyjKIcoj"
      },
      "execution_count": 2,
      "outputs": []
    },
    {
      "cell_type": "code",
      "source": [
        "print(type(train_data))"
      ],
      "metadata": {
        "colab": {
          "base_uri": "https://localhost:8080/"
        },
        "id": "QHG9hKFrIWil",
        "outputId": "e8f8dea0-45e1-4f61-bb0d-35faca583e6a"
      },
      "execution_count": 3,
      "outputs": [
        {
          "output_type": "stream",
          "name": "stdout",
          "text": [
            "<class 'numpy.ndarray'>\n"
          ]
        }
      ]
    },
    {
      "cell_type": "code",
      "source": [
        "class_names = ['T-shirt/top', 'Trouser', 'Pullover', 'Dress', 'Coat',\n",
        "               'Sandal', 'Shirt', 'Sneaker', 'Bag', 'Ankle boot']"
      ],
      "metadata": {
        "id": "svW5PfKgx5oW"
      },
      "execution_count": 4,
      "outputs": []
    },
    {
      "cell_type": "code",
      "source": [
        "print(len(train_labels))"
      ],
      "metadata": {
        "colab": {
          "base_uri": "https://localhost:8080/"
        },
        "id": "JEpGHt81t0Hs",
        "outputId": "3fd8c01a-3d95-48a2-c5b1-7f3db5148de0"
      },
      "execution_count": 5,
      "outputs": [
        {
          "output_type": "stream",
          "name": "stdout",
          "text": [
            "60000\n"
          ]
        }
      ]
    },
    {
      "cell_type": "code",
      "source": [
        "print(train_data.shape)"
      ],
      "metadata": {
        "colab": {
          "base_uri": "https://localhost:8080/"
        },
        "id": "roWJe1o20Xis",
        "outputId": "88f4650e-bf78-4775-f505-b7937a898932"
      },
      "execution_count": 6,
      "outputs": [
        {
          "output_type": "stream",
          "name": "stdout",
          "text": [
            "(60000, 28, 28)\n"
          ]
        }
      ]
    },
    {
      "cell_type": "code",
      "source": [
        "import matplotlib.pyplot as plt\n",
        "\n",
        "plt.figure()\n",
        "plt.imshow(train_data[0])\n",
        "plt.colorbar()\n",
        "plt.grid(False)\n",
        "plt.show()"
      ],
      "metadata": {
        "colab": {
          "base_uri": "https://localhost:8080/",
          "height": 269
        },
        "id": "dZpSCsbG0vJE",
        "outputId": "5159d59d-24dc-4c0b-8b69-923ae28f7a01"
      },
      "execution_count": 7,
      "outputs": [
        {
          "output_type": "display_data",
          "data": {
            "text/plain": [
              "<Figure size 432x288 with 2 Axes>"
            ],
            "image/png": "[encoded data removed]"
          },
          "metadata": {
            "needs_background": "light"
          }
        }
      ]
    },
    {
      "cell_type": "code",
      "source": [
        "train_labels[0]"
      ],
      "metadata": {
        "colab": {
          "base_uri": "https://localhost:8080/"
        },
        "id": "WsgBQWVY_khc",
        "outputId": "adbfe555-95d5-48ca-8170-55970108a8d5"
      },
      "execution_count": 8,
      "outputs": [
        {
          "output_type": "execute_result",
          "data": {
            "text/plain": [
              "9"
            ]
          },
          "metadata": {},
          "execution_count": 8
        }
      ]
    },
    {
      "cell_type": "markdown",
      "source": [
        "model = tf.keras.Sequential()\n",
        "\n",
        "model.add(tf.keras.layers.Flatten(input_shape=(28,28,1)))\n",
        "\n",
        "model.add(tf.keras.layers.Dense(256, activation='relu'))\n",
        "\n",
        "model.add(tf.keras.layers.Dropout(0.2))\n",
        "\n",
        "model.add(tf.keras.layers.Dense(512, activation='relu'))\n",
        "\n",
        "model.add(tf.keras.layers.Dense(10, activation='softmax'))\n",
        "\n",
        "\n",
        "model.compile(\n",
        "    optimizer=\"adam\",\n",
        "    loss=tf.keras.losses.SparseCategoricalCrossentropy(from_logits=True),\n",
        "    metrics=[\"accuracy\"]\n",
        ")\n",
        "\n",
        "history = model.fit(\n",
        "partial_x_train,\n",
        "partial_y_train,\n",
        "epochs=10,\n",
        "batch_size=128,\n",
        "validation_data=(test_data, test_labels)\n",
        ")\n",
        "\n",
        "\n",
        "Epoch 10/10\n",
        "\n",
        "loss: 0.2608 - accuracy: 0.9012 - val_loss: 0.3223 - val_accuracy: 0.8831"
      ],
      "metadata": {
        "id": "RS2n8nZMZCdf"
      }
    },
    {
      "cell_type": "code",
      "source": [],
      "metadata": {
        "id": "kwKeQ4LkcGdd"
      },
      "execution_count": null,
      "outputs": []
    },
    {
      "cell_type": "code",
      "source": [
        "#0.88\n",
        "\"\"\"model = tf.keras.Sequential([\n",
        "    tf.keras.layers.Flatten(input_shape=(28, 28)),\n",
        "    tf.keras.layers.Dense(256, activation='sigmoid'),\n",
        "    tf.keras.layers.Dense(128, activation='sigmoid'),\n",
        "    tf.keras.layers.Dense(10)\n",
        "])\"\"\"\n",
        "\n",
        "model = tf.keras.Sequential()\n",
        "# Must define the input shape in the first layer of the neural network\n",
        "model.add(tf.keras.layers.Conv2D(filters=64, kernel_size=2, padding='same', activation='relu', input_shape=(28,28,1))) \n",
        "model.add(tf.keras.layers.MaxPooling2D(pool_size=2))\n",
        "model.add(tf.keras.layers.Dropout(0.3))\n",
        "model.add(tf.keras.layers.Conv2D(filters=32, kernel_size=2, padding='same', activation='relu'))\n",
        "model.add(tf.keras.layers.MaxPooling2D(pool_size=2))\n",
        "model.add(tf.keras.layers.Dropout(0.3))\n",
        "model.add(tf.keras.layers.Flatten())\n",
        "model.add(tf.keras.layers.Dense(256, activation='relu'))\n",
        "model.add(tf.keras.layers.Dropout(0.5))\n",
        "model.add(tf.keras.layers.Dense(10, activation='softmax'))\n",
        "\n",
        "model.compile(\n",
        "    optimizer=\"adam\",\n",
        "    loss=tf.keras.losses.SparseCategoricalCrossentropy(from_logits=True),\n",
        "    metrics=[\"accuracy\"]\n",
        ")\n",
        "model.summary()"
      ],
      "metadata": {
        "colab": {
          "base_uri": "https://localhost:8080/"
        },
        "id": "mWWbnazut510",
        "outputId": "29ccace9-3faf-4bf1-cca3-3c4fba94b256"
      },
      "execution_count": 22,
      "outputs": [
        {
          "output_type": "stream",
          "name": "stdout",
          "text": [
            "Model: \"sequential_3\"\n",
            "_________________________________________________________________\n",
            " Layer (type)                Output Shape              Param #   \n",
            "=================================================================\n",
            " conv2d (Conv2D)             (None, 28, 28, 64)        320       \n",
            "                                                                 \n",
            " max_pooling2d (MaxPooling2D  (None, 14, 14, 64)       0         \n",
            " )                                                               \n",
            "                                                                 \n",
            " dropout (Dropout)           (None, 14, 14, 64)        0         \n",
            "                                                                 \n",
            " conv2d_1 (Conv2D)           (None, 14, 14, 32)        8224      \n",
            "                                                                 \n",
            " max_pooling2d_1 (MaxPooling  (None, 7, 7, 32)         0         \n",
            " 2D)                                                             \n",
            "                                                                 \n",
            " dropout_1 (Dropout)         (None, 7, 7, 32)          0         \n",
            "                                                                 \n",
            " flatten_3 (Flatten)         (None, 1568)              0         \n",
            "                                                                 \n",
            " dense_7 (Dense)             (None, 256)               401664    \n",
            "                                                                 \n",
            " dropout_2 (Dropout)         (None, 256)               0         \n",
            "                                                                 \n",
            " dense_8 (Dense)             (None, 10)                2570      \n",
            "                                                                 \n",
            "=================================================================\n",
            "Total params: 412,778\n",
            "Trainable params: 412,778\n",
            "Non-trainable params: 0\n",
            "_________________________________________________________________\n"
          ]
        }
      ]
    },
    {
      "cell_type": "markdown",
      "source": [
        "[30, 64, 0.15, 0.11, 'softplus']\n",
        "![33.png](data:image/png;base64,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)\n"
      ],
      "metadata": {
        "id": "QBy2CuWBopZ4"
      }
    },
    {
      "cell_type": "code",
      "source": [
        "x_val = train_data[:10000]\n",
        "partial_x_train = train_data[10000:]\n",
        "\n",
        "y_val =train_labels[:10000]\n",
        "partial_y_train = train_labels[10000:]"
      ],
      "metadata": {
        "id": "u8X7R3IavvUY"
      },
      "execution_count": 10,
      "outputs": []
    },
    {
      "cell_type": "code",
      "source": [
        "print(x_val.shape , partial_x_train.shape)"
      ],
      "metadata": {
        "colab": {
          "base_uri": "https://localhost:8080/"
        },
        "id": "Q8cWbsYbvxtc",
        "outputId": "d0fd99fa-2f3a-4289-b844-d209dce93054"
      },
      "execution_count": 11,
      "outputs": [
        {
          "output_type": "stream",
          "name": "stdout",
          "text": [
            "(10000, 28, 28) (50000, 28, 28)\n"
          ]
        }
      ]
    },
    {
      "cell_type": "code",
      "source": [
        "print(y_val.shape ,partial_y_train.shape)"
      ],
      "metadata": {
        "colab": {
          "base_uri": "https://localhost:8080/"
        },
        "id": "CNZfgpOSv1oc",
        "outputId": "6de9fcd4-ccf1-466d-a661-aefb125ac939"
      },
      "execution_count": 12,
      "outputs": [
        {
          "output_type": "stream",
          "name": "stdout",
          "text": [
            "(10000,) (50000,)\n"
          ]
        }
      ]
    },
    {
      "cell_type": "code",
      "source": [
        "partial_y_train[0]"
      ],
      "metadata": {
        "colab": {
          "base_uri": "https://localhost:8080/"
        },
        "id": "Gqi03Bzw_PaV",
        "outputId": "450933e7-cd3f-4def-8e35-c17c24e660ec"
      },
      "execution_count": 13,
      "outputs": [
        {
          "output_type": "execute_result",
          "data": {
            "text/plain": [
              "8"
            ]
          },
          "metadata": {},
          "execution_count": 13
        }
      ]
    },
    {
      "cell_type": "code",
      "source": [
        "print(x_val.shape, y_val.shape)"
      ],
      "metadata": {
        "colab": {
          "base_uri": "https://localhost:8080/"
        },
        "id": "gbiGhwZgz0aO",
        "outputId": "42149492-eb3e-49e0-d28f-3ebc05f143f2"
      },
      "execution_count": 14,
      "outputs": [
        {
          "output_type": "stream",
          "name": "stdout",
          "text": [
            "(10000, 28, 28) (10000,)\n"
          ]
        }
      ]
    },
    {
      "cell_type": "code",
      "source": [
        "\n",
        "history = model.fit(\n",
        "    partial_x_train,\n",
        "    partial_y_train,\n",
        "    epochs=15,\n",
        "    batch_size=512,\n",
        "    validation_data=(test_data, test_labels)\n",
        ")"
      ],
      "metadata": {
        "colab": {
          "base_uri": "https://localhost:8080/"
        },
        "id": "0JNBp_yDu0D-",
        "outputId": "447e93ee-f645-4543-b93f-f99b3454659d"
      },
      "execution_count": 23,
      "outputs": [
        {
          "output_type": "stream",
          "name": "stdout",
          "text": [
            "Epoch 1/15\n"
          ]
        },
        {
          "output_type": "stream",
          "name": "stderr",
          "text": [
            "/usr/local/lib/python3.7/dist-packages/tensorflow/python/util/dispatch.py:1082: UserWarning: \"`sparse_categorical_crossentropy` received `from_logits=True`, but the `output` argument was produced by a sigmoid or softmax activation and thus does not represent logits. Was this intended?\"\n",
            "  return dispatch_target(*args, **kwargs)\n"
          ]
        },
        {
          "output_type": "stream",
          "name": "stdout",
          "text": [
            "98/98 [==============================] - 60s 609ms/step - loss: 0.9174 - accuracy: 0.6610 - val_loss: 0.5161 - val_accuracy: 0.8080\n",
            "Epoch 2/15\n",
            "98/98 [==============================] - 62s 633ms/step - loss: 0.5300 - accuracy: 0.8052 - val_loss: 0.4230 - val_accuracy: 0.8501\n",
            "Epoch 3/15\n",
            "98/98 [==============================] - 63s 645ms/step - loss: 0.4550 - accuracy: 0.8340 - val_loss: 0.3726 - val_accuracy: 0.8654\n",
            "Epoch 4/15\n",
            "98/98 [==============================] - 62s 629ms/step - loss: 0.4165 - accuracy: 0.8499 - val_loss: 0.3536 - val_accuracy: 0.8711\n",
            "Epoch 5/15\n",
            "98/98 [==============================] - 60s 611ms/step - loss: 0.3903 - accuracy: 0.8584 - val_loss: 0.3224 - val_accuracy: 0.8869\n",
            "Epoch 6/15\n",
            "98/98 [==============================] - 61s 618ms/step - loss: 0.3719 - accuracy: 0.8650 - val_loss: 0.3139 - val_accuracy: 0.8852\n",
            "Epoch 7/15\n",
            "98/98 [==============================] - 59s 607ms/step - loss: 0.3605 - accuracy: 0.8693 - val_loss: 0.2985 - val_accuracy: 0.8932\n",
            "Epoch 8/15\n",
            "98/98 [==============================] - 59s 606ms/step - loss: 0.3428 - accuracy: 0.8739 - val_loss: 0.2952 - val_accuracy: 0.8912\n",
            "Epoch 9/15\n",
            "98/98 [==============================] - 59s 606ms/step - loss: 0.3348 - accuracy: 0.8775 - val_loss: 0.2797 - val_accuracy: 0.8993\n",
            "Epoch 10/15\n",
            "98/98 [==============================] - 61s 619ms/step - loss: 0.3246 - accuracy: 0.8824 - val_loss: 0.2710 - val_accuracy: 0.9012\n",
            "Epoch 11/15\n",
            "98/98 [==============================] - 59s 606ms/step - loss: 0.3149 - accuracy: 0.8844 - val_loss: 0.2663 - val_accuracy: 0.9048\n",
            "Epoch 12/15\n",
            "98/98 [==============================] - 59s 605ms/step - loss: 0.3091 - accuracy: 0.8866 - val_loss: 0.2619 - val_accuracy: 0.9029\n",
            "Epoch 13/15\n",
            "98/98 [==============================] - 61s 618ms/step - loss: 0.3033 - accuracy: 0.8902 - val_loss: 0.2541 - val_accuracy: 0.9077\n",
            "Epoch 14/15\n",
            "98/98 [==============================] - 62s 634ms/step - loss: 0.2990 - accuracy: 0.8908 - val_loss: 0.2496 - val_accuracy: 0.9104\n",
            "Epoch 15/15\n",
            "98/98 [==============================] - 59s 605ms/step - loss: 0.2943 - accuracy: 0.8915 - val_loss: 0.2491 - val_accuracy: 0.9106\n"
          ]
        }
      ]
    },
    {
      "cell_type": "code",
      "source": [
        "test_loss, test_acc = model.evaluate(test_data, test_labels, verbose=2)\n",
        "\n",
        "print('\\nTest accuracy:', test_acc)"
      ],
      "metadata": {
        "colab": {
          "base_uri": "https://localhost:8080/"
        },
        "id": "ae01XDbgS0Fv",
        "outputId": "67548af8-036c-470e-b08c-8a77ec55d3fb"
      },
      "execution_count": 24,
      "outputs": [
        {
          "output_type": "stream",
          "name": "stdout",
          "text": [
            "313/313 - 6s - loss: 0.2698 - accuracy: 0.8981 - 6s/epoch - 20ms/step\n",
            "\n",
            "Test accuracy: 0.8981000185012817\n"
          ]
        }
      ]
    },
    {
      "cell_type": "markdown",
      "source": [
        "Если \n",
        "![ВЯ10.PNG](data:image/png;base64,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)epochs=10,\n",
        "batch_size=64,"
      ],
      "metadata": {
        "id": "jzmfBHfAW9YO"
      }
    },
    {
      "cell_type": "code",
      "source": [],
      "metadata": {
        "id": "tVm71G-CWmrn"
      },
      "execution_count": null,
      "outputs": []
    }
  ]
}